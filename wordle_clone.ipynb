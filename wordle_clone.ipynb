{
 "cells": [
  {
   "cell_type": "code",
   "execution_count": 4,
   "id": "16b3ddd9-11b8-4a73-ae9b-a2be4a34373c",
   "metadata": {},
   "outputs": [
    {
     "name": "stderr",
     "output_type": "stream",
     "text": [
      "[nltk_data] Downloading package words to /Users/thuce/nltk_data...\n",
      "[nltk_data]   Package words is already up-to-date!\n"
     ]
    },
    {
     "name": "stdout",
     "output_type": "stream",
     "text": [
      "Enter your guess: \n"
     ]
    },
    {
     "name": "stdin",
     "output_type": "stream",
     "text": [
      " apple\n"
     ]
    },
    {
     "name": "stdout",
     "output_type": "stream",
     "text": [
      "apple\n",
      "Enter your guess: \n"
     ]
    },
    {
     "name": "stdin",
     "output_type": "stream",
     "text": [
      " birth\n"
     ]
    },
    {
     "name": "stdout",
     "output_type": "stream",
     "text": [
      "b\u001b[32mi\u001b[0m\u001b[32mr\u001b[0mth\n",
      "Enter your guess: \n"
     ]
    },
    {
     "name": "stdin",
     "output_type": "stream",
     "text": [
      " virus\n"
     ]
    },
    {
     "name": "stdout",
     "output_type": "stream",
     "text": [
      "v\u001b[32mi\u001b[0m\u001b[32mr\u001b[0mu\u001b[33ms\u001b[0m\n",
      "Enter your guess: \n"
     ]
    },
    {
     "name": "stdin",
     "output_type": "stream",
     "text": [
      " sirky\n"
     ]
    },
    {
     "name": "stdout",
     "output_type": "stream",
     "text": [
      "\u001b[32ms\u001b[0m\u001b[32mi\u001b[0m\u001b[32mr\u001b[0mky\n",
      "Enter your guess: \n"
     ]
    },
    {
     "name": "stdin",
     "output_type": "stream",
     "text": [
      " siroc\n"
     ]
    },
    {
     "name": "stdout",
     "output_type": "stream",
     "text": [
      "\u001b[32ms\u001b[0m\u001b[32mi\u001b[0m\u001b[32mr\u001b[0m\u001b[32mo\u001b[0m\u001b[32mc\u001b[0m\n",
      "\u001b[31mCongratulations! You got the word in 5 guess(es)!\u001b[0m\n"
     ]
    }
   ],
   "source": [
    "import random\n",
    "import sys\n",
    "from termcolor import colored  \n",
    "import nltk\n",
    "from nltk.corpus import words\n",
    "\n",
    "nltk.download('words')\n",
    "\n",
    "def get_random_word():\n",
    "    word_list = [word.lower() for word in words.words() if len(word) == 5]\n",
    "    return random.choice(word_list).lower()\n",
    "\n",
    "def get_valid_guess(word_list):\n",
    "    print(\"Enter your guess: \")\n",
    "    while True:\n",
    "        guess = input().lower()\n",
    "        if len(guess) == 5 and guess in word_list:\n",
    "            return guess\n",
    "        else:\n",
    "            print(colored(\"Invalid word. Please enter a valid 5-letter word.\", 'red'))\n",
    "\n",
    "def check_answer():\n",
    "    word = get_random_word()\n",
    "    for attempt in range(1, 7):\n",
    "        guess = get_valid_guess(word_list)\n",
    "\n",
    "        for i in range(min(len(guess), 5)):\n",
    "            if guess[i] == word[i]:\n",
    "                print(colored(guess[i], 'green'), end=\"\")\n",
    "            elif guess[i] in word:\n",
    "                print(colored(guess[i], 'yellow'), end=\"\")\n",
    "            else:\n",
    "                print(guess[i], end=\"\")\n",
    "        \n",
    "        print()  \n",
    "\n",
    "        if guess == word:\n",
    "            print(colored(f\"Congratulations! You got the word in {attempt} guess(es)!\", 'red'))\n",
    "            break\n",
    "    else:\n",
    "        print(colored(f\"Sorry! The word was {word}. Better luck next time!\", 'red'))\n",
    "\n",
    "check_answer()"
   ]
  },
  {
   "cell_type": "code",
   "execution_count": null,
   "id": "d90a6072-8e3f-4501-a99d-2231a0b0d153",
   "metadata": {},
   "outputs": [],
   "source": []
  }
 ],
 "metadata": {
  "kernelspec": {
   "display_name": "Python 3 (ipykernel)",
   "language": "python",
   "name": "python3"
  },
  "language_info": {
   "codemirror_mode": {
    "name": "ipython",
    "version": 3
   },
   "file_extension": ".py",
   "mimetype": "text/x-python",
   "name": "python",
   "nbconvert_exporter": "python",
   "pygments_lexer": "ipython3",
   "version": "3.11.5"
  }
 },
 "nbformat": 4,
 "nbformat_minor": 5
}
